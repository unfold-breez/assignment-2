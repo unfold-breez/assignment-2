{
 "cells": [
  {
   "cell_type": "markdown",
   "id": "468c55f9-6d32-4e82-ba59-5cb4e3c0aa00",
   "metadata": {},
   "source": [
    "# ASSIGNMENT 2 [ DATA STRUCTURE ]"
   ]
  },
  {
   "cell_type": "markdown",
   "id": "d3d7456f-38be-429a-a6cb-990c8919c010",
   "metadata": {},
   "source": [
    "1)What are data structures, and why are they important?\n",
    "\n",
    " \n",
    " answer:- Data structures are ways to\n",
    "store and organize data. They help us work with data easily and make programs faster."
   ]
  },
  {
   "cell_type": "markdown",
   "id": "6148052a-8896-4902-92d3-e7ae196a9d42",
   "metadata": {},
   "source": [
    "2)Difference between mutable and immutable data types with examples?\n",
    "\n",
    "answer:- Mutable means we can change the value (like lists). Immutable means we cannot change\n",
    "the value (like strings or tuples). Example: list = [1, 2] (mutable), tuple = (1, 2) (immutable)"
   ]
  },
  {
   "cell_type": "markdown",
   "id": "e2cc6064-5ac8-4b19-9e23-4a9d8ad08c94",
   "metadata": {},
   "source": [
    "3)Lists vs Tuples in Python?\n",
    "\n",
    "Answer:- Lists can change (mutable), tuples cannot (immutable).\n",
    "Lists use [], tuples use ()."
   ]
  },
  {
   "cell_type": "markdown",
   "id": "0abb9f72-9fe0-4c2b-afaf-a1bead9ee8fb",
   "metadata": {},
   "source": [
    "4)How dictionaries store data?\n",
    "\n",
    "answer:- They store data in key-value pairs. Each key points to a\n",
    "value."
   ]
  },
  {
   "cell_type": "markdown",
   "id": "550f16e9-197c-4c79-bd91-854fc9e26127",
   "metadata": {},
   "source": [
    "5)Why use a set instead of a list?\n",
    "\n",
    " answer:-Sets don’t allow duplicates and are faster for checking if\n",
    "an item is there"
   ]
  },
  {
   "cell_type": "markdown",
   "id": "db405e9c-3008-448e-906f-ff5ff77d5aee",
   "metadata": {},
   "source": [
    "6)What is a string in Python, and how is it different from a list?\n",
    "\n",
    " answer:-A string is a group of\n",
    "characters. It is immutable. A list can hold different data types and is mutable.\n"
   ]
  },
  {
   "cell_type": "markdown",
   "id": "76434976-4e9a-4abc-8067-e3638307537f",
   "metadata": {},
   "source": [
    "7)How do tuples ensure data integrity?\n",
    "\n",
    "answer:-Since tuples can’t be changed, the data stays safe\n",
    "and fixed."
   ]
  },
  {
   "cell_type": "markdown",
   "id": "fe20438b-3f8f-4c63-97ca-5524d5009ea5",
   "metadata": {},
   "source": [
    "9)Can lists have different data types?\n",
    "\n",
    "answer:-Yes, lists can have numbers, strings, etc., all in one\n",
    "list.\n"
   ]
  },
  {
   "cell_type": "markdown",
   "id": "177e5554-c159-492e-bcb8-25923bd641b9",
   "metadata": {},
   "source": [
    "10)Why are strings immutable in Python?\n",
    "\n",
    "answer:- So that they don’t change by mistake. This\n",
    "also helps make the program faster and safer."
   ]
  },
  {
   "cell_type": "markdown",
   "id": "39335db4-6b72-4670-bfd2-90b88f989ed0",
   "metadata": {},
   "source": [
    "11)Advantages of dictionaries over lists?\n",
    "\n",
    " answer:- Dictionaries are better for looking up values using\n",
    "a key, which is faster than searching in a list"
   ]
  },
  {
   "cell_type": "markdown",
   "id": "ced372c7-93b2-4627-8370-728b3a9c5e3a",
   "metadata": {},
   "source": [
    "12)When to use a tuple instead of a list:\n",
    "\n",
    "answer:-When you don’t want the data to change, like\n",
    "fixed coordinates\n"
   ]
  },
  {
   "cell_type": "markdown",
   "id": "8fc4dbad-fd6e-45eb-a66f-306e470ad044",
   "metadata": {},
   "source": [
    "13)How do sets handle duplicates?\n",
    "\n",
    "answer:-Sets automatically remove duplicates. Only unique\n",
    "items are stored.\n"
   ]
  },
  {
   "cell_type": "markdown",
   "id": "55e718ed-4e9a-4877-9d3c-1d656e1ab600",
   "metadata": {},
   "source": [
    "14)How “in” works in lists vs dictionaries?\n",
    "\n",
    "answer:-In a list, it checks for the value. In a dictionary,\n",
    "it checks for the key.\n"
   ]
  },
  {
   "cell_type": "markdown",
   "id": "8f7ce138-a993-4925-8679-60d7d7306fb3",
   "metadata": {},
   "source": [
    "15)Can you modify elements in a tuple?\n",
    "\n",
    " answer:-No, tuples cannot be changed. That’s why they\n",
    "are immutable\n"
   ]
  },
  {
   "cell_type": "markdown",
   "id": "51fe4115-0375-4c4a-8f1a-94ce35fe785d",
   "metadata": {},
   "source": [
    "16)What is a nested dictionary? Example?\n",
    "\n",
    "answer:-A dictionary inside another dictionary. Example: {“person”: {“name”: “John”, “age”: 30}}"
   ]
  },
  {
   "cell_type": "markdown",
   "id": "6eefa4d6-3f45-4879-ad85-32b78c1fbcba",
   "metadata": {},
   "source": [
    "17)Time complexity of accessing dictionary elements?\n",
    "\n",
    "answer:-It’s usually O(1), which means very\n",
    "fast"
   ]
  },
  {
   "cell_type": "markdown",
   "id": "27df8aba-b4ce-4c14-ab3a-4f06d7bff1e7",
   "metadata": {},
   "source": [
    "18)When are lists better than dictionaries? \n",
    "\n",
    "answer:-When you just need to store items in order\n",
    "and don’t need key-value pairs"
   ]
  },
  {
   "cell_type": "markdown",
   "id": "a247211a-422b-4ab0-b520-0b994dea27ac",
   "metadata": {},
   "source": [
    "19)Why are dictionaries unordered? \n",
    "\n",
    "answer:-They are stored using hashes, not by position. So you\n",
    "can’t rely on the order."
   ]
  },
  {
   "cell_type": "markdown",
   "id": "d0f1ee8e-c891-46fc-abc7-7e29dda66147",
   "metadata": {},
   "source": [
    "20)List vs dictionary for data retrieval?\n",
    "\n",
    "answer:-Lists use index numbers to get values. Dictionaries\n",
    "use keys to get values, which is faster.\n"
   ]
  },
  {
   "cell_type": "markdown",
   "id": "b1a2544f-ceb6-4663-bf81-4bb1f2f9755b",
   "metadata": {},
   "source": [
    "# PRACTICAL QUESTIONS"
   ]
  },
  {
   "cell_type": "code",
   "execution_count": 51,
   "id": "d4cc19af-a7e8-4b57-be09-8ff8625fa87b",
   "metadata": {},
   "outputs": [
    {
     "name": "stdout",
     "output_type": "stream",
     "text": [
      "VIKAS\n"
     ]
    }
   ],
   "source": [
    "#1)Write a code to create a string with your name and print it?\n",
    "print(\"VIKAS\")"
   ]
  },
  {
   "cell_type": "code",
   "execution_count": 53,
   "id": "206fd691-f5b1-4d22-8e6d-1bcb99da3be0",
   "metadata": {},
   "outputs": [
    {
     "name": "stdout",
     "output_type": "stream",
     "text": [
      "11\n"
     ]
    }
   ],
   "source": [
    "#2)Write a code to find the length of the string \"Hello World\"?\n",
    "print(len(\"hello world\"))"
   ]
  },
  {
   "cell_type": "code",
   "execution_count": 55,
   "id": "af31aab6-02ff-4dbf-bb46-758534fe2961",
   "metadata": {},
   "outputs": [
    {
     "name": "stdout",
     "output_type": "stream",
     "text": [
      "Pyt\n"
     ]
    }
   ],
   "source": [
    "#3)Write a code to slice the first 3 characters from the string \"Python␣↪Programming\"?\n",
    "print(\"Python Programming\"[0:3])"
   ]
  },
  {
   "cell_type": "code",
   "execution_count": 57,
   "id": "e35d3d4c-756f-4261-b8ff-95ea989c0654",
   "metadata": {},
   "outputs": [
    {
     "name": "stdout",
     "output_type": "stream",
     "text": [
      "HELLO\n"
     ]
    }
   ],
   "source": [
    " #4)Write a code to convert the string \"hello\" to uppercase?\n",
    "print(\"hello\".upper())"
   ]
  },
  {
   "cell_type": "code",
   "execution_count": 61,
   "id": "76a5baec-8d3c-4988-bfcd-388ed44557dc",
   "metadata": {},
   "outputs": [
    {
     "data": {
      "text/plain": [
       "'i like orange'"
      ]
     },
     "execution_count": 61,
     "metadata": {},
     "output_type": "execute_result"
    }
   ],
   "source": [
    "#5)Write a code to replace the word \"apple\" with \"orange\" in the string \"I like␣↪apple\n",
    "l=(\"i like apple\")\n",
    "l.replace(\"apple\",\"orange\")"
   ]
  },
  {
   "cell_type": "code",
   "execution_count": 63,
   "id": "7e9b15c8-cebd-4bd1-b2c4-d4c9f74be668",
   "metadata": {},
   "outputs": [
    {
     "name": "stdout",
     "output_type": "stream",
     "text": [
      "[1, 2, 3, 4, 5]\n"
     ]
    }
   ],
   "source": [
    " #6)Write a code to create a list with numbers 1 to 5 and print it?\n",
    "print([1, 2, 3, 4, 5])"
   ]
  },
  {
   "cell_type": "code",
   "execution_count": 65,
   "id": "540388b9-c710-46f6-9db6-cf4e0e006f0c",
   "metadata": {},
   "outputs": [],
   "source": [
    "#7)Write a code to append the number 10 to the list [1, 2, 3, 4]?\n",
    "list=[1,2,3,4]\n",
    "list.append(10)"
   ]
  },
  {
   "cell_type": "code",
   "execution_count": 67,
   "id": "491d1294-f6e9-4ce4-b43a-7ae5ce7965c8",
   "metadata": {},
   "outputs": [
    {
     "data": {
      "text/plain": [
       "[1, 2, 3, 4, 10]"
      ]
     },
     "execution_count": 67,
     "metadata": {},
     "output_type": "execute_result"
    }
   ],
   "source": [
    "list"
   ]
  },
  {
   "cell_type": "code",
   "execution_count": 69,
   "id": "24d0cd9c-ac29-4bb7-b934-ee15b8fa4831",
   "metadata": {},
   "outputs": [],
   "source": [
    "#8)Write a code to remove the number 3 from the list [1, 2, 3, 4, 5]?\n",
    "l=[1,2,3,4,5]\n",
    "l.remove(3)"
   ]
  },
  {
   "cell_type": "code",
   "execution_count": 71,
   "id": "2e3bfd8f-0957-42f4-af68-ceab705e73d3",
   "metadata": {},
   "outputs": [
    {
     "data": {
      "text/plain": [
       "[1, 2, 4, 5]"
      ]
     },
     "execution_count": 71,
     "metadata": {},
     "output_type": "execute_result"
    }
   ],
   "source": [
    "l"
   ]
  },
  {
   "cell_type": "code",
   "execution_count": 73,
   "id": "21fd1186-c35a-47f4-967b-cdbdd2cf9f3c",
   "metadata": {},
   "outputs": [
    {
     "name": "stdout",
     "output_type": "stream",
     "text": [
      "b\n"
     ]
    }
   ],
   "source": [
    "#9)Write a code to access the second element in the list ['a', 'b', 'c', 'd']?\n",
    "l=[\"a\",\"b\",\"c\",\"d\"]\n",
    "print(l[1])"
   ]
  },
  {
   "cell_type": "code",
   "execution_count": 75,
   "id": "44f1403c-1bef-49aa-aae8-afe3ad88a2e2",
   "metadata": {},
   "outputs": [
    {
     "name": "stdout",
     "output_type": "stream",
     "text": [
      "[50, 40, 30, 20, 10]\n"
     ]
    }
   ],
   "source": [
    "#10)Write a code to reverse the list [10, 20, 30, 40, 50]?\n",
    "number=[10,20,30,40,50]\n",
    "number.reverse()\n",
    "print(number)"
   ]
  },
  {
   "cell_type": "code",
   "execution_count": 77,
   "id": "cd564c71-5778-4ae1-aded-ca6657744218",
   "metadata": {},
   "outputs": [
    {
     "name": "stdout",
     "output_type": "stream",
     "text": [
      "(100, 200, 300)\n"
     ]
    }
   ],
   "source": [
    " #11)Write a code to create a tuple with the elements 100, 200, 300 and print it?\n",
    "t=(100,200,300)\n",
    "print(t)"
   ]
  },
  {
   "cell_type": "code",
   "execution_count": 81,
   "id": "c3ebe0f5-2e08-4bbb-a80d-8763e5f04e11",
   "metadata": {},
   "outputs": [
    {
     "name": "stdout",
     "output_type": "stream",
     "text": [
      "green\n"
     ]
    }
   ],
   "source": [
    "#12)Write a code to access the second-to-last element of the tuple ('red','green', 'blue', 'yellow')?\n",
    "t=('red','green','yellow')\n",
    "print(t[-2])"
   ]
  },
  {
   "cell_type": "code",
   "execution_count": 83,
   "id": "57097e3f-6e86-4de5-aba7-b744f05287a6",
   "metadata": {},
   "outputs": [
    {
     "name": "stdout",
     "output_type": "stream",
     "text": [
      "5\n"
     ]
    }
   ],
   "source": [
    "#13)Write a code to find the minimum number in the tuple (10, 20, 5, 15)?\n",
    "t=(10,20,5,15)\n",
    "print(min(t))"
   ]
  },
  {
   "cell_type": "code",
   "execution_count": 85,
   "id": "b5eb2c0a-0aa1-4e86-94b9-cce7238da2f8",
   "metadata": {},
   "outputs": [
    {
     "name": "stdout",
     "output_type": "stream",
     "text": [
      "1\n"
     ]
    }
   ],
   "source": [
    "#14)Write a code to find the index of the element \"cat\" in the tuple ('dog',␣'cat', 'rabbit')?\n",
    "animal=(\"dog\",\"cat\",\"rabbit\")\n",
    "print(animal.index(\"cat\"))"
   ]
  },
  {
   "cell_type": "code",
   "execution_count": 87,
   "id": "3c16645e-a612-4f08-97bd-8a316b7f7430",
   "metadata": {},
   "outputs": [
    {
     "name": "stdout",
     "output_type": "stream",
     "text": [
      "False\n"
     ]
    }
   ],
   "source": [
    "#15)Write a code to create a tuple containing three different fruits and check␣if \"kiwi\" is in it.?\n",
    "fruit=(\"apple\",\"mango\",\"watermelon\")\n",
    "print(\"kiwi\"in t)"
   ]
  },
  {
   "cell_type": "code",
   "execution_count": 89,
   "id": "9269e59f-8ee8-4580-8161-97153c175a68",
   "metadata": {},
   "outputs": [
    {
     "name": "stdout",
     "output_type": "stream",
     "text": [
      "('a', 'b', 'c')\n"
     ]
    }
   ],
   "source": [
    "#16)Write a code to create a set with the elements 'a', 'b', 'c' and print it?\n",
    "set=(\"a\",\"b\",\"c\")\n",
    "print(set)"
   ]
  },
  {
   "cell_type": "code",
   "execution_count": 91,
   "id": "de715aaa-e382-47fb-875c-974b3e9ed7a5",
   "metadata": {},
   "outputs": [
    {
     "name": "stdout",
     "output_type": "stream",
     "text": [
      "set()\n"
     ]
    }
   ],
   "source": [
    "#17)Write a code to clear all elements from the set {1, 2, 3, 4, 5}?\n",
    "s={1,2,3,4,5}\n",
    "s.clear()\n",
    "print(s)"
   ]
  },
  {
   "cell_type": "code",
   "execution_count": 93,
   "id": "34acd554-91dd-48f9-b226-9c16d52bf18b",
   "metadata": {},
   "outputs": [
    {
     "name": "stdout",
     "output_type": "stream",
     "text": [
      "{1, 2, 3}\n"
     ]
    }
   ],
   "source": [
    "#18)Write a code to remove the element 4 from the set {1, 2, 3, 4}?\n",
    "set={1,2,3,4}\n",
    "set.remove(4)\n",
    "print(set)"
   ]
  },
  {
   "cell_type": "code",
   "execution_count": 95,
   "id": "7e0d70ab-30a4-4a2e-a8c7-6b76fc7c4e45",
   "metadata": {},
   "outputs": [
    {
     "name": "stdout",
     "output_type": "stream",
     "text": [
      "{1, 2, 3, 4, 5}\n"
     ]
    }
   ],
   "source": [
    "#19)Write a code to find the union of two sets {1, 2, 3} and {3, 4, 5}?\n",
    "set1={1,2,3}\n",
    "set2={3,4,5}\n",
    "print(set1.union(set2))"
   ]
  },
  {
   "cell_type": "code",
   "execution_count": 97,
   "id": "11a0a551-39bb-4ef8-9d2c-e2ded3639860",
   "metadata": {},
   "outputs": [
    {
     "name": "stdout",
     "output_type": "stream",
     "text": [
      "{2, 3}\n"
     ]
    }
   ],
   "source": [
    "#20)Write a code to find the intersection of two sets {1, 2, 3} and {2, 3, 4}?\n",
    "set1={1,2,3}\n",
    "set2={2,3,4}\n",
    "print(set1.intersection(set2))"
   ]
  },
  {
   "cell_type": "code",
   "execution_count": 101,
   "id": "601126ba-a6fd-4ed9-a299-0bb6e7496752",
   "metadata": {},
   "outputs": [
    {
     "name": "stdout",
     "output_type": "stream",
     "text": [
      "Object `it` not found.\n",
      "{'name': 'Breez', 'age': 21, 'city': 'new delhi'}\n"
     ]
    }
   ],
   "source": [
    "#21)Write a code to create a dictionary with the keys \"name\", \"age\", and␣\n",
    "↪\"city\", and print it?\n",
    "d={\"name\":\"Breez\",\"age\":21,\"city\":\"new delhi\"}\n",
    "print(d)"
   ]
  },
  {
   "cell_type": "code",
   "execution_count": 105,
   "id": "2e8cfa3b-fdd2-45b7-a772-ac2502b2075e",
   "metadata": {},
   "outputs": [
    {
     "name": "stdout",
     "output_type": "stream",
     "text": [
      "{'name': 'john', 'age': 25, 'country': 'usa'}\n"
     ]
    }
   ],
   "source": [
    "#22)Write a code to add a new key-value pair \"country\": \"USA\" to the dictionary␣{'name': 'John', 'age': 25}?\n",
    "d={\"name\":\"john\",\"age\":25}\n",
    "d[\"country\"]=\"usa\"\n",
    "print(d)"
   ]
  },
  {
   "cell_type": "code",
   "execution_count": 109,
   "id": "f681f4d8-b6b8-4da9-baf1-5a284b761855",
   "metadata": {},
   "outputs": [
    {
     "name": "stdout",
     "output_type": "stream",
     "text": [
      "Alice\n"
     ]
    }
   ],
   "source": [
    "#23)Write a code to access the value associated with the key \"name\" in the␣dictionary {'name': 'Alice', 'age': 30}.?\n",
    "d={'name': 'Alice', 'age': 30}\n",
    "print(d[\"name\"])"
   ]
  },
  {
   "cell_type": "code",
   "execution_count": 111,
   "id": "46c33c5b-50de-4dc6-8b2d-14a83a073926",
   "metadata": {},
   "outputs": [
    {
     "name": "stdout",
     "output_type": "stream",
     "text": [
      "{'name': 'Bob', 'city': 'New York'}\n"
     ]
    }
   ],
   "source": [
    "#24) Write a code to remove the key \"age\" from the dictionary {'name': 'Bob',␣'age': 22, 'city': 'New York'}?\n",
    "d= {'name': 'Bob', 'age': 22, 'city': 'New York'}\n",
    "del d[\"age\"]\n",
    "print(d)"
   ]
  },
  {
   "cell_type": "code",
   "execution_count": 113,
   "id": "1a39f8bc-bb0f-47b8-a349-a3cd4e4405bb",
   "metadata": {},
   "outputs": [
    {
     "name": "stdout",
     "output_type": "stream",
     "text": [
      "True\n"
     ]
    }
   ],
   "source": [
    "#25) Write a code to check if the key \"city\" exists in the dictionary {'name':␣'Alice', 'city': 'Paris'}?\n",
    "d={'name': 'Alice', 'city': 'Paris'}\n",
    "print(\"city\" in d)"
   ]
  },
  {
   "cell_type": "code",
   "execution_count": 117,
   "id": "9fe644b5-f217-4057-8c16-876cad6fd33f",
   "metadata": {},
   "outputs": [
    {
     "name": "stdout",
     "output_type": "stream",
     "text": [
      "[1, 2] (3, 4) {'a': 5}\n"
     ]
    }
   ],
   "source": [
    "#26)Write a code to create a list, a tuple, and a dictionary, and print them␣all?\n",
    "l=[1,2]\n",
    "t=(3,4)\n",
    "d={\"a\":5}\n",
    "print(l,t,d)"
   ]
  },
  {
   "cell_type": "code",
   "execution_count": 146,
   "id": "d764f95d-a9c0-4ff9-8510-96ff0eb73a35",
   "metadata": {},
   "outputs": [
    {
     "name": "stdout",
     "output_type": "stream",
     "text": [
      "Sorted random numbers: [19, 75, 81, 91, 98]\n"
     ]
    }
   ],
   "source": [
    "#27)Write a code to create a list of 5 random numbers between 1 and 100, sort␣it in ascending order, and print the result.(replaced)?\n",
    "import random\n",
    "random_numbers = [random.randint(1, 100) for _ in range(5)]\n",
    "random_numbers.sort()\n",
    "print(\"Sorted random numbers:\", random_numbers)\n"
   ]
  },
  {
   "cell_type": "code",
   "execution_count": 148,
   "id": "12bc3b47-bf99-4ef0-ac55-499af81c6e6c",
   "metadata": {},
   "outputs": [
    {
     "name": "stdout",
     "output_type": "stream",
     "text": [
      "date\n"
     ]
    }
   ],
   "source": [
    "#28) Write a code to create a list with strings and print the element at the␣third index?\n",
    "l = [\"apple\", \"banana\", \"cherry\", \"date\"]\n",
    "print(l[3])"
   ]
  },
  {
   "cell_type": "code",
   "execution_count": 150,
   "id": "61115a86-5a16-456d-a8c5-5ba186963629",
   "metadata": {},
   "outputs": [
    {
     "name": "stdout",
     "output_type": "stream",
     "text": [
      "{'a': 1, 'b': 2}\n"
     ]
    }
   ],
   "source": [
    "#29) Write a code to combine two dictionaries into one and print the result?\n",
    "d1 = {\"a\": 1}; d2 = {\"b\": 2}\n",
    "d1.update(d2)\n",
    "print(d1)"
   ]
  },
  {
   "cell_type": "code",
   "execution_count": 156,
   "id": "304071a6-45c8-4c4d-b397-9d09a80d8f2a",
   "metadata": {},
   "outputs": [
    {
     "ename": "TypeError",
     "evalue": "'set' object is not callable",
     "output_type": "error",
     "traceback": [
      "\u001b[1;31m---------------------------------------------------------------------------\u001b[0m",
      "\u001b[1;31mTypeError\u001b[0m                                 Traceback (most recent call last)",
      "Cell \u001b[1;32mIn[156], line 4\u001b[0m\n\u001b[0;32m      1\u001b[0m \u001b[38;5;66;03m#30)Write a code to convert a list of strings into a set?\u001b[39;00m\n\u001b[0;32m      2\u001b[0m \u001b[38;5;66;03m# List of strings\u001b[39;00m\n\u001b[0;32m      3\u001b[0m string_list \u001b[38;5;241m=\u001b[39m [\u001b[38;5;124m\"\u001b[39m\u001b[38;5;124mapple\u001b[39m\u001b[38;5;124m\"\u001b[39m, \u001b[38;5;124m\"\u001b[39m\u001b[38;5;124mbanana\u001b[39m\u001b[38;5;124m\"\u001b[39m, \u001b[38;5;124m\"\u001b[39m\u001b[38;5;124mcherry\u001b[39m\u001b[38;5;124m\"\u001b[39m, \u001b[38;5;124m\"\u001b[39m\u001b[38;5;124mapple\u001b[39m\u001b[38;5;124m\"\u001b[39m, \u001b[38;5;124m\"\u001b[39m\u001b[38;5;124mbanana\u001b[39m\u001b[38;5;124m\"\u001b[39m]\n\u001b[1;32m----> 4\u001b[0m string_set \u001b[38;5;241m=\u001b[39m \u001b[38;5;28mset\u001b[39m(string_list)\n\u001b[0;32m      5\u001b[0m \u001b[38;5;28mprint\u001b[39m(\u001b[38;5;124m\"\u001b[39m\u001b[38;5;124mSet of strings:\u001b[39m\u001b[38;5;124m\"\u001b[39m, string_set)\n",
      "\u001b[1;31mTypeError\u001b[0m: 'set' object is not callable"
     ]
    }
   ],
   "source": [
    "#30)Write a code to convert a list of strings into a set?\n",
    "# List of strings\n",
    "string_list = [\"apple\", \"banana\", \"cherry\", \"apple\", \"banana\"]\n",
    "string_set = set(string_list)\n",
    "print(\"Set of strings:\", string_set)"
   ]
  },
  {
   "cell_type": "code",
   "execution_count": null,
   "id": "bf720457-bf8e-447d-a658-23cdbc605e74",
   "metadata": {},
   "outputs": [],
   "source": []
  }
 ],
 "metadata": {
  "kernelspec": {
   "display_name": "Python [conda env:base] *",
   "language": "python",
   "name": "conda-base-py"
  },
  "language_info": {
   "codemirror_mode": {
    "name": "ipython",
    "version": 3
   },
   "file_extension": ".py",
   "mimetype": "text/x-python",
   "name": "python",
   "nbconvert_exporter": "python",
   "pygments_lexer": "ipython3",
   "version": "3.12.7"
  }
 },
 "nbformat": 4,
 "nbformat_minor": 5
}
